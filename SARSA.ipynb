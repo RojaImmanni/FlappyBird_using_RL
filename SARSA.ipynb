{
 "cells": [
  {
   "cell_type": "markdown",
   "metadata": {},
   "source": [
    "## In this notebook, we are going to train a random agent as a baseline model"
   ]
  },
  {
   "cell_type": "markdown",
   "metadata": {},
   "source": [
    "#### Import the environment and the agent"
   ]
  },
  {
   "cell_type": "code",
   "execution_count": 1,
   "metadata": {},
   "outputs": [
    {
     "name": "stdout",
     "output_type": "stream",
     "text": [
      "pygame 1.9.6\n",
      "Hello from the pygame community. https://www.pygame.org/contribute.html\n",
      "couldn't import doomish\n",
      "Couldn't import doom\n"
     ]
    }
   ],
   "source": [
    "from Game.environment import *\n",
    "from Agents.SARSA_agent import *"
   ]
  },
  {
   "cell_type": "markdown",
   "metadata": {},
   "source": [
    "#### Create a Sarsa agent and train for 50,000 iterations and save the scores"
   ]
  },
  {
   "cell_type": "code",
   "execution_count": 4,
   "metadata": {},
   "outputs": [
    {
     "name": "stdout",
     "output_type": "stream",
     "text": [
      "Iter:  0\n",
      "Iter:  250\n",
      "Max Score on Evaluation:  67\n",
      "Iter:  500\n",
      "Iter:  750\n",
      "Max Score on Evaluation:  77\n",
      "Iter:  1000\n",
      "Iter:  1250\n",
      "Max Score on Evaluation:  76\n",
      "Iter:  1500\n",
      "Iter:  1750\n",
      "Max Score on Evaluation:  97\n",
      "Iter:  2000\n",
      "Iter:  2250\n",
      "Max Score on Evaluation:  97\n",
      "Iter:  2500\n",
      "Iter:  2750\n",
      "Max Score on Evaluation:  97\n",
      "Iter:  3000\n",
      "Iter:  3250\n",
      "Max Score on Evaluation:  97\n",
      "Iter:  3500\n",
      "Iter:  3750\n",
      "Max Score on Evaluation:  101\n",
      "Iter:  4000\n",
      "Iter:  4250\n",
      "Max Score on Evaluation:  118\n",
      "Iter:  4500\n",
      "Iter:  4750\n",
      "Max Score on Evaluation:  109\n",
      "Iter:  5000\n",
      "Iter:  5250\n",
      "Max Score on Evaluation:  111\n",
      "Iter:  5500\n",
      "Iter:  5750\n",
      "Max Score on Evaluation:  111\n",
      "Iter:  6000\n",
      "Iter:  6250\n",
      "Max Score on Evaluation:  131\n",
      "Iter:  6500\n",
      "Iter:  6750\n",
      "Max Score on Evaluation:  123\n",
      "Iter:  7000\n",
      "Iter:  7250\n",
      "Max Score on Evaluation:  133\n",
      "Iter:  7500\n",
      "Iter:  7750\n",
      "Max Score on Evaluation:  170\n",
      "Iter:  8000\n",
      "Iter:  8250\n",
      "Max Score on Evaluation:  140\n",
      "Iter:  8500\n",
      "Iter:  8750\n",
      "Max Score on Evaluation:  133\n",
      "Iter:  9000\n",
      "Iter:  9250\n",
      "Max Score on Evaluation:  166\n",
      "Iter:  9500\n",
      "Iter:  9750\n",
      "Max Score on Evaluation:  160\n",
      "Iter:  10000\n",
      "Iter:  10250\n",
      "Max Score on Evaluation:  174\n",
      "Iter:  10500\n",
      "Iter:  10750\n",
      "Max Score on Evaluation:  133\n",
      "Iter:  11000\n",
      "Iter:  11250\n",
      "Max Score on Evaluation:  179\n",
      "Iter:  11500\n",
      "Iter:  11750\n",
      "Max Score on Evaluation:  168\n",
      "Iter:  12000\n",
      "Iter:  12250\n",
      "Max Score on Evaluation:  174\n",
      "Iter:  12500\n",
      "Iter:  12750\n",
      "Max Score on Evaluation:  182\n",
      "Iter:  13000\n",
      "Iter:  13250\n",
      "Max Score on Evaluation:  196\n",
      "Iter:  13500\n",
      "Iter:  13750\n",
      "Max Score on Evaluation:  187\n",
      "Iter:  14000\n",
      "Iter:  14250\n",
      "Max Score on Evaluation:  174\n",
      "Iter:  14500\n",
      "Iter:  14750\n",
      "Max Score on Evaluation:  183\n",
      "Iter:  15000\n",
      "Iter:  15250\n",
      "Max Score on Evaluation:  210\n",
      "Iter:  15500\n",
      "Iter:  15750\n",
      "Max Score on Evaluation:  183\n",
      "Iter:  16000\n",
      "Iter:  16250\n",
      "Max Score on Evaluation:  174\n",
      "Iter:  16500\n",
      "Iter:  16750\n",
      "Max Score on Evaluation:  186\n",
      "Iter:  17000\n",
      "Iter:  17250\n",
      "Max Score on Evaluation:  174\n",
      "Iter:  17500\n",
      "Iter:  17750\n",
      "Max Score on Evaluation:  174\n",
      "Iter:  18000\n",
      "Iter:  18250\n",
      "Max Score on Evaluation:  210\n",
      "Iter:  18500\n",
      "Iter:  18750\n",
      "Max Score on Evaluation:  187\n",
      "Iter:  19000\n",
      "Iter:  19250\n",
      "Max Score on Evaluation:  197\n",
      "Iter:  19500\n",
      "Iter:  19750\n",
      "Max Score on Evaluation:  188\n",
      "Iter:  20000\n",
      "Iter:  20250\n",
      "Max Score on Evaluation:  179\n",
      "Iter:  20500\n",
      "Iter:  20750\n",
      "Max Score on Evaluation:  205\n",
      "Iter:  21000\n",
      "Iter:  21250\n",
      "Max Score on Evaluation:  182\n",
      "Iter:  21500\n",
      "Iter:  21750\n",
      "Max Score on Evaluation:  205\n",
      "Iter:  22000\n",
      "Iter:  22250\n",
      "Max Score on Evaluation:  188\n",
      "Iter:  22500\n",
      "Iter:  22750\n",
      "Max Score on Evaluation:  206\n",
      "Iter:  23000\n",
      "Iter:  23250\n",
      "Max Score on Evaluation:  217\n",
      "Iter:  23500\n",
      "Iter:  23750\n",
      "Max Score on Evaluation:  210\n",
      "Iter:  24000\n",
      "Iter:  24250\n",
      "Max Score on Evaluation:  226\n",
      "Iter:  24500\n",
      "Iter:  24750\n",
      "Max Score on Evaluation:  246\n",
      "Iter:  25000\n",
      "Iter:  25250\n",
      "Max Score on Evaluation:  209\n",
      "Iter:  25500\n",
      "Iter:  25750\n",
      "Max Score on Evaluation:  210\n",
      "Iter:  26000\n",
      "Iter:  26250\n",
      "Max Score on Evaluation:  210\n",
      "Iter:  26500\n",
      "Iter:  26750\n",
      "Max Score on Evaluation:  210\n",
      "Iter:  27000\n",
      "Iter:  27250\n",
      "Max Score on Evaluation:  246\n",
      "Iter:  27500\n",
      "Iter:  27750\n",
      "Max Score on Evaluation:  210\n",
      "Iter:  28000\n",
      "Iter:  28250\n",
      "Max Score on Evaluation:  210\n",
      "Iter:  28500\n",
      "Iter:  28750\n",
      "Max Score on Evaluation:  246\n",
      "Iter:  29000\n",
      "Iter:  29250\n",
      "Max Score on Evaluation:  233\n",
      "Iter:  29500\n",
      "Iter:  29750\n",
      "Max Score on Evaluation:  246\n",
      "Iter:  30000\n",
      "Iter:  30250\n",
      "Max Score on Evaluation:  246\n",
      "Iter:  30500\n",
      "Iter:  30750\n",
      "Max Score on Evaluation:  277\n",
      "Iter:  31000\n",
      "Iter:  31250\n",
      "Max Score on Evaluation:  246\n",
      "Iter:  31500\n",
      "Iter:  31750\n",
      "Max Score on Evaluation:  359\n",
      "Iter:  32000\n",
      "Iter:  32250\n",
      "Max Score on Evaluation:  287\n",
      "Iter:  32500\n",
      "Iter:  32750\n",
      "Max Score on Evaluation:  323\n",
      "Iter:  33000\n",
      "Iter:  33250\n",
      "Max Score on Evaluation:  323\n",
      "Iter:  33500\n",
      "Iter:  33750\n",
      "Max Score on Evaluation:  270\n",
      "Iter:  34000\n",
      "Iter:  34250\n",
      "Max Score on Evaluation:  287\n",
      "Iter:  34500\n",
      "Iter:  34750\n",
      "Max Score on Evaluation:  283\n",
      "Iter:  35000\n",
      "Iter:  35250\n",
      "Max Score on Evaluation:  287\n",
      "Iter:  35500\n",
      "Iter:  35750\n",
      "Max Score on Evaluation:  400\n",
      "Iter:  36000\n",
      "Iter:  36250\n",
      "Max Score on Evaluation:  400\n",
      "Iter:  36500\n",
      "Iter:  36750\n",
      "Max Score on Evaluation:  394\n",
      "Iter:  37000\n",
      "Iter:  37250\n",
      "Max Score on Evaluation:  436\n",
      "Iter:  37500\n",
      "Iter:  37750\n",
      "Max Score on Evaluation:  436\n",
      "Iter:  38000\n",
      "Iter:  38250\n",
      "Max Score on Evaluation:  359\n",
      "Iter:  38500\n",
      "Iter:  38750\n",
      "Max Score on Evaluation:  436\n",
      "Iter:  39000\n",
      "Iter:  39250\n",
      "Max Score on Evaluation:  472\n",
      "Iter:  39500\n",
      "Iter:  39750\n",
      "Max Score on Evaluation:  513\n",
      "Iter:  40000\n",
      "Iter:  40250\n",
      "Max Score on Evaluation:  513\n",
      "Iter:  40500\n",
      "Iter:  40750\n",
      "Max Score on Evaluation:  513\n",
      "Iter:  41000\n",
      "Iter:  41250\n",
      "Max Score on Evaluation:  585\n",
      "Iter:  41500\n",
      "Iter:  41750\n",
      "Max Score on Evaluation:  513\n",
      "Iter:  42000\n",
      "Iter:  42250\n",
      "Max Score on Evaluation:  572\n",
      "Iter:  42500\n",
      "Iter:  42750\n",
      "Max Score on Evaluation:  888\n",
      "Iter:  43000\n",
      "Iter:  43250\n",
      "Max Score on Evaluation:  662\n",
      "Iter:  43500\n",
      "Iter:  43750\n",
      "Max Score on Evaluation:  946\n",
      "Iter:  44000\n",
      "Iter:  44250\n",
      "Max Score on Evaluation:  698\n",
      "Iter:  44500\n",
      "Iter:  44750\n",
      "Max Score on Evaluation:  775\n",
      "Iter:  45000\n",
      "Iter:  45250\n",
      "Max Score on Evaluation:  775\n",
      "Iter:  45500\n",
      "Iter:  45750\n",
      "Max Score on Evaluation:  852\n",
      "Iter:  46000\n",
      "Iter:  46250\n",
      "Max Score on Evaluation:  662\n",
      "Iter:  46500\n",
      "Iter:  46750\n",
      "Max Score on Evaluation:  965\n",
      "Iter:  47000\n",
      "Iter:  47250\n",
      "Max Score on Evaluation:  1145\n",
      "Iter:  47500\n",
      "Iter:  47750\n",
      "Max Score on Evaluation:  888\n",
      "Iter:  48000\n",
      "Iter:  48250\n",
      "Max Score on Evaluation:  775\n",
      "Iter:  48500\n",
      "Iter:  48750\n",
      "Max Score on Evaluation:  1304\n",
      "Iter:  49000\n",
      "Iter:  49250\n",
      "Max Score on Evaluation:  1150\n",
      "Iter:  49500\n",
      "Iter:  49750\n",
      "Max Score on Evaluation:  1191\n"
     ]
    }
   ],
   "source": [
    "agent = SARSA_Agent(actions = [0, 1])\n",
    "agent.train(50000, 100)"
   ]
  },
  {
   "cell_type": "markdown",
   "metadata": {},
   "source": [
    "#### Look at the results."
   ]
  },
  {
   "cell_type": "code",
   "execution_count": 5,
   "metadata": {},
   "outputs": [],
   "source": [
    "baseline_scores = pd.read_csv(\"Scores/baseline.csv\", index_col= 0)\n",
    "sarsa_scores = pd.read_csv(\"Scores/sarsa.csv\", index_col= 0)"
   ]
  },
  {
   "cell_type": "code",
   "execution_count": 6,
   "metadata": {},
   "outputs": [
    {
     "data": {
      "text/plain": [
       "<matplotlib.axes._subplots.AxesSubplot at 0x115ed5cf8>"
      ]
     },
     "execution_count": 6,
     "metadata": {},
     "output_type": "execute_result"
    },
    {
     "data": {
      "image/png": "[encoded data removed]",
      "text/plain": [
       "<Figure size 432x288 with 1 Axes>"
      ]
     },
     "metadata": {
      "needs_background": "light"
     },
     "output_type": "display_data"
    },
    {
     "data": {
      "image/png": "[encoded data removed]",
      "text/plain": [
       "<Figure size 432x288 with 1 Axes>"
      ]
     },
     "metadata": {
      "needs_background": "light"
     },
     "output_type": "display_data"
    }
   ],
   "source": [
    "\n",
    "baseline_scores.plot()\n",
    "sarsa_scores.plot()"
   ]
  },
  {
   "cell_type": "code",
   "execution_count": 7,
   "metadata": {},
   "outputs": [],
   "source": [
    "import matplotlib.pyplot as plt"
   ]
  },
  {
   "cell_type": "code",
   "execution_count": 11,
   "metadata": {},
   "outputs": [
    {
     "data": {
      "text/plain": [
       "[<matplotlib.lines.Line2D at 0x115e68198>]"
      ]
     },
     "execution_count": 11,
     "metadata": {},
     "output_type": "execute_result"
    },
    {
     "data": {
      "image/png": "[encoded data removed]",
      "text/plain": [
       "<Figure size 432x288 with 1 Axes>"
      ]
     },
     "metadata": {
      "needs_background": "light"
     },
     "output_type": "display_data"
    }
   ],
   "source": [
    "plt.plot(baseline_scores['scores'][:80])\n",
    "plt.plot(sarsa_scores['scores'][:80])"
   ]
  },
  {
   "cell_type": "code",
   "execution_count": null,
   "metadata": {},
   "outputs": [],
   "source": []
  },
  {
   "cell_type": "code",
   "execution_count": null,
   "metadata": {},
   "outputs": [],
   "source": []
  },
  {
   "cell_type": "code",
   "execution_count": null,
   "metadata": {},
   "outputs": [],
   "source": []
  }
 ],
 "metadata": {
  "kernelspec": {
   "display_name": "Python 3",
   "language": "python",
   "name": "python3"
  },
  "language_info": {
   "codemirror_mode": {
    "name": "ipython",
    "version": 3
   },
   "file_extension": ".py",
   "mimetype": "text/x-python",
   "name": "python",
   "nbconvert_exporter": "python",
   "pygments_lexer": "ipython3",
   "version": "3.7.3"
  }
 },
 "nbformat": 4,
 "nbformat_minor": 2
}
