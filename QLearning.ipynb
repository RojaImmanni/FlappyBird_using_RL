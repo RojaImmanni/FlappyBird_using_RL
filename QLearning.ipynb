{
 "cells": [
  {
   "cell_type": "markdown",
   "metadata": {},
   "source": [
    "## In this notebook, we are going to train a Q-Learning agent"
   ]
  },
  {
   "cell_type": "markdown",
   "metadata": {},
   "source": [
    "#### Import the environment and the agent"
   ]
  },
  {
   "cell_type": "code",
   "execution_count": 1,
   "metadata": {},
   "outputs": [
    {
     "name": "stdout",
     "output_type": "stream",
     "text": [
      "pygame 1.9.6\n",
      "Hello from the pygame community. https://www.pygame.org/contribute.html\n",
      "couldn't import doomish\n",
      "Couldn't import doom\n"
     ]
    }
   ],
   "source": [
    "from Game.environment import *\n",
    "from Agents.Q_agent import *"
   ]
  },
  {
   "cell_type": "markdown",
   "metadata": {},
   "source": [
    "#### Create a Q Learning agent and train for 40,000 iterations and save the scores"
   ]
  },
  {
   "cell_type": "code",
   "execution_count": 6,
   "metadata": {},
   "outputs": [
    {
     "name": "stdout",
     "output_type": "stream",
     "text": [
      "Iter:  0\n",
      "Iter:  250\n",
      "Max Score on Evaluation:  61\n",
      "Iter:  500\n",
      "Iter:  750\n",
      "Max Score on Evaluation:  61\n",
      "Iter:  1000\n",
      "Iter:  1250\n",
      "Max Score on Evaluation:  97\n",
      "Iter:  1500\n",
      "Iter:  1750\n",
      "Max Score on Evaluation:  93\n",
      "Iter:  2000\n",
      "Iter:  2250\n",
      "Max Score on Evaluation:  97\n",
      "Iter:  2500\n",
      "Iter:  2750\n",
      "Max Score on Evaluation:  97\n",
      "Iter:  3000\n",
      "Iter:  3250\n",
      "Max Score on Evaluation:  97\n",
      "Iter:  3500\n",
      "Iter:  3750\n",
      "Max Score on Evaluation:  133\n",
      "Iter:  4000\n",
      "Iter:  4250\n",
      "Max Score on Evaluation:  126\n",
      "Iter:  4500\n",
      "Iter:  4750\n",
      "Max Score on Evaluation:  133\n",
      "Iter:  5000\n",
      "Iter:  5250\n",
      "Max Score on Evaluation:  174\n",
      "Iter:  5500\n",
      "Iter:  5750\n",
      "Max Score on Evaluation:  173\n",
      "Iter:  6000\n",
      "Iter:  6250\n",
      "Max Score on Evaluation:  174\n",
      "Iter:  6500\n",
      "Iter:  6750\n",
      "Max Score on Evaluation:  170\n",
      "Iter:  7000\n",
      "Iter:  7250\n",
      "Max Score on Evaluation:  174\n",
      "Iter:  7500\n",
      "Iter:  7750\n",
      "Max Score on Evaluation:  174\n",
      "Iter:  8000\n",
      "Iter:  8250\n",
      "Max Score on Evaluation:  174\n",
      "Iter:  8500\n",
      "Iter:  8750\n",
      "Max Score on Evaluation:  181\n",
      "Iter:  9000\n",
      "Iter:  9250\n",
      "Max Score on Evaluation:  177\n",
      "Iter:  9500\n",
      "Iter:  9750\n",
      "Max Score on Evaluation:  174\n",
      "Iter:  10000\n",
      "Iter:  10250\n",
      "Max Score on Evaluation:  188\n",
      "Iter:  10500\n",
      "Iter:  10750\n",
      "Max Score on Evaluation:  187\n",
      "Iter:  11000\n",
      "Iter:  11250\n",
      "Max Score on Evaluation:  195\n",
      "Iter:  11500\n",
      "Iter:  11750\n",
      "Max Score on Evaluation:  182\n",
      "Iter:  12000\n",
      "Iter:  12250\n",
      "Max Score on Evaluation:  205\n",
      "Iter:  12500\n",
      "Iter:  12750\n",
      "Max Score on Evaluation:  182\n",
      "Iter:  13000\n",
      "Iter:  13250\n",
      "Max Score on Evaluation:  210\n",
      "Iter:  13500\n",
      "Iter:  13750\n",
      "Max Score on Evaluation:  210\n",
      "Iter:  14000\n",
      "Iter:  14250\n",
      "Max Score on Evaluation:  198\n",
      "Iter:  14500\n",
      "Iter:  14750\n",
      "Max Score on Evaluation:  210\n",
      "Iter:  15000\n",
      "Iter:  15250\n",
      "Max Score on Evaluation:  210\n",
      "Iter:  15500\n",
      "Iter:  15750\n",
      "Max Score on Evaluation:  210\n",
      "Iter:  16000\n",
      "Iter:  16250\n",
      "Max Score on Evaluation:  211\n",
      "Iter:  16500\n",
      "Iter:  16750\n",
      "Max Score on Evaluation:  246\n",
      "Iter:  17000\n",
      "Iter:  17250\n",
      "Max Score on Evaluation:  241\n",
      "Iter:  17500\n",
      "Iter:  17750\n",
      "Max Score on Evaluation:  298\n",
      "Iter:  18000\n",
      "Iter:  18250\n",
      "Max Score on Evaluation:  246\n",
      "Iter:  18500\n",
      "Iter:  18750\n",
      "Max Score on Evaluation:  287\n",
      "Iter:  19000\n",
      "Iter:  19250\n",
      "Max Score on Evaluation:  246\n",
      "Iter:  19500\n",
      "Iter:  19750\n",
      "Max Score on Evaluation:  287\n",
      "Iter:  20000\n",
      "Iter:  20250\n",
      "Max Score on Evaluation:  246\n",
      "Iter:  20500\n",
      "Iter:  20750\n",
      "Max Score on Evaluation:  287\n",
      "Iter:  21000\n",
      "Iter:  21250\n",
      "Max Score on Evaluation:  246\n",
      "Iter:  21500\n",
      "Iter:  21750\n",
      "Max Score on Evaluation:  323\n",
      "Iter:  22000\n",
      "Iter:  22250\n",
      "Max Score on Evaluation:  287\n",
      "Iter:  22500\n",
      "Iter:  22750\n",
      "Max Score on Evaluation:  380\n",
      "Iter:  23000\n",
      "Iter:  23250\n",
      "Max Score on Evaluation:  317\n",
      "Iter:  23500\n",
      "Iter:  23750\n",
      "Max Score on Evaluation:  359\n",
      "Iter:  24000\n",
      "Iter:  24250\n",
      "Max Score on Evaluation:  359\n",
      "Iter:  24500\n",
      "Iter:  24750\n",
      "Max Score on Evaluation:  385\n",
      "Iter:  25000\n",
      "Iter:  25250\n",
      "Max Score on Evaluation:  400\n",
      "Iter:  25500\n",
      "Iter:  25750\n",
      "Max Score on Evaluation:  359\n",
      "Iter:  26000\n",
      "Iter:  26250\n",
      "Max Score on Evaluation:  472\n",
      "Iter:  26500\n",
      "Iter:  26750\n",
      "Max Score on Evaluation:  472\n",
      "Iter:  27000\n",
      "Iter:  27250\n",
      "Max Score on Evaluation:  549\n",
      "Iter:  27500\n",
      "Iter:  27750\n",
      "Max Score on Evaluation:  436\n",
      "Iter:  28000\n",
      "Iter:  28250\n",
      "Max Score on Evaluation:  626\n",
      "Iter:  28500\n",
      "Iter:  28750\n",
      "Max Score on Evaluation:  951\n",
      "Iter:  29000\n",
      "Iter:  29250\n",
      "Max Score on Evaluation:  585\n",
      "Iter:  29500\n",
      "Iter:  29750\n",
      "Max Score on Evaluation:  698\n",
      "Iter:  30000\n",
      "Iter:  30250\n",
      "Max Score on Evaluation:  811\n",
      "Iter:  30500\n",
      "Iter:  30750\n",
      "Max Score on Evaluation:  888\n",
      "Iter:  31000\n",
      "Iter:  31250\n",
      "Max Score on Evaluation:  888\n",
      "Iter:  31500\n",
      "Iter:  31750\n",
      "Max Score on Evaluation:  1078\n",
      "Iter:  32000\n",
      "Iter:  32250\n",
      "Max Score on Evaluation:  1114\n",
      "Iter:  32500\n",
      "Iter:  32750\n",
      "Max Score on Evaluation:  1300\n",
      "Iter:  33000\n",
      "Iter:  33250\n",
      "Max Score on Evaluation:  1340\n",
      "Iter:  33500\n",
      "Iter:  33750\n",
      "Max Score on Evaluation:  1756\n",
      "Iter:  34000\n",
      "Iter:  34250\n",
      "Max Score on Evaluation:  1792\n",
      "Iter:  34500\n",
      "Iter:  34750\n",
      "Max Score on Evaluation:  2767\n",
      "Iter:  35000\n",
      "Iter:  35250\n",
      "Max Score on Evaluation:  2619\n",
      "Iter:  35500\n",
      "Iter:  35750\n",
      "Max Score on Evaluation:  1905\n",
      "Iter:  36000\n",
      "Iter:  36250\n",
      "Max Score on Evaluation:  2619\n",
      "Iter:  36500\n",
      "Iter:  36750\n",
      "Max Score on Evaluation:  2845\n",
      "Iter:  37000\n",
      "Iter:  37250\n",
      "Max Score on Evaluation:  2346\n",
      "Iter:  37500\n",
      "Iter:  37750\n",
      "Max Score on Evaluation:  3035\n",
      "Iter:  38000\n",
      "Iter:  38250\n",
      "Max Score on Evaluation:  2983\n",
      "Iter:  38500\n",
      "Iter:  38750\n",
      "Max Score on Evaluation:  4989\n",
      "Iter:  39000\n",
      "Iter:  39250\n",
      "Max Score on Evaluation:  4340\n",
      "Iter:  39500\n",
      "Iter:  39750\n",
      "Max Score on Evaluation:  4016\n"
     ]
    }
   ],
   "source": [
    "agent = Q_Agent(actions = [0, 1])\n",
    "agent.train(40000, 100)"
   ]
  },
  {
   "cell_type": "markdown",
   "metadata": {},
   "source": [
    "#### Look at the results."
   ]
  },
  {
   "cell_type": "code",
   "execution_count": 2,
   "metadata": {},
   "outputs": [],
   "source": [
    "scores = pd.read_csv(\"Scores/qlearning.csv\", index_col= 0)"
   ]
  },
  {
   "cell_type": "code",
   "execution_count": 4,
   "metadata": {},
   "outputs": [
    {
     "data": {
      "text/plain": [
       "<matplotlib.axes._subplots.AxesSubplot at 0x11c0560f0>"
      ]
     },
     "execution_count": 4,
     "metadata": {},
     "output_type": "execute_result"
    },
    {
     "data": {
      "image/png": "[encoded data removed]",
      "text/plain": [
       "<Figure size 432x288 with 1 Axes>"
      ]
     },
     "metadata": {
      "needs_background": "light"
     },
     "output_type": "display_data"
    }
   ],
   "source": [
    "scores.plot()"
   ]
  },
  {
   "cell_type": "code",
   "execution_count": null,
   "metadata": {},
   "outputs": [],
   "source": []
  },
  {
   "cell_type": "code",
   "execution_count": null,
   "metadata": {},
   "outputs": [],
   "source": []
  },
  {
   "cell_type": "code",
   "execution_count": null,
   "metadata": {},
   "outputs": [],
   "source": []
  },
  {
   "cell_type": "code",
   "execution_count": null,
   "metadata": {},
   "outputs": [],
   "source": []
  },
  {
   "cell_type": "code",
   "execution_count": null,
   "metadata": {},
   "outputs": [],
   "source": []
  }
 ],
 "metadata": {
  "kernelspec": {
   "display_name": "Python 3",
   "language": "python",
   "name": "python3"
  },
  "language_info": {
   "codemirror_mode": {
    "name": "ipython",
    "version": 3
   },
   "file_extension": ".py",
   "mimetype": "text/x-python",
   "name": "python",
   "nbconvert_exporter": "python",
   "pygments_lexer": "ipython3",
   "version": "3.7.3"
  }
 },
 "nbformat": 4,
 "nbformat_minor": 2
}
